{
 "cells": [
  {
   "cell_type": "markdown",
   "metadata": {},
   "source": [
    "## Introduction\n",
    "This notebook shows how to save a docker image and tranfer to a different host system. In addition, it introduces how to modify a docker image, and save the modified image as a new image. By doing this, you can develop docker application based on a template."
   ]
  },
  {
   "cell_type": "markdown",
   "metadata": {},
   "source": [
    "### Save docker image\n",
    "docker save -o <path for tar file> <image name>    \n",
    "docker save -o C:/myfile.tar docker_image1:v1    \n",
    "    \n",
    "### Transfer the saved docker image tar file\n",
    "cp or scp <tar file> <destination>\n",
    "    \n",
    "### Load the transferred tar file\n",
    "docker load -i <path the tar file>\n",
    "\n",
    "### Run the docker\n",
    "docker run -t mydocker docker_image1:v1\n",
    "\n",
    "###  Enter the docker container\n",
    "docker exec -it docker_image1:v1 bash\n",
    "\n",
    "### Modify the docker image using bash \n",
    "apt-get install nano\n",
    "\n",
    "### Commit the docker\n",
    "docker commit container_id new_docker_image\n",
    "\n"
   ]
  },
  {
   "cell_type": "code",
   "execution_count": null,
   "metadata": {},
   "outputs": [],
   "source": []
  }
 ],
 "metadata": {
  "kernelspec": {
   "display_name": "Python 3",
   "language": "python",
   "name": "python3"
  },
  "language_info": {
   "codemirror_mode": {
    "name": "ipython",
    "version": 3
   },
   "file_extension": ".py",
   "mimetype": "text/x-python",
   "name": "python",
   "nbconvert_exporter": "python",
   "pygments_lexer": "ipython3",
   "version": "3.6.7"
  }
 },
 "nbformat": 4,
 "nbformat_minor": 2
}
