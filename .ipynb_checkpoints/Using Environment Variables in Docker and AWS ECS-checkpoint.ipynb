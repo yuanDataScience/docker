{
 "cells": [
  {
   "cell_type": "markdown",
   "metadata": {},
   "source": [
    "## Entrypoint, CMD and Environmental Variables in Docker\n",
    "This notebook shows the usage and difference between entrypoint and CMD in Dockerfile. In addition, compared the two ways to transfer parameters to the shell script running inside the docker contaniner instances: one is to directly transfer the parameter values in the docker run command. The other is to use the enviromental variable. Both can be used to transfer parameters to docker container."
   ]
  },
  {
   "cell_type": "markdown",
   "metadata": {},
   "source": [
    "### 1 input environemtal variables\n",
    "The following is a simple Dockerfile:"
   ]
  },
  {
   "cell_type": "markdown",
   "metadata": {},
   "source": [
    "FROM ubuntu:18.10\n",
    "LABEL maintainer=\"Yuan Huang <huangyuan2000@hotmail.com>\" \\\n",
    "      version=\"1.0\"\n",
    "\n",
    "\n",
    "RUN apt-get update -y && apt-get install -y wget && \\\n",
    "    apt-get install -y lftp && \\\n",
    "    apt-get clean && rm -rf /var/cache/apt/archives/* /var/lib/apt/lists/* \n",
    "\n",
    "\n",
    "USER root\n",
    "WORKDIR /\n",
    "COPY run.sh /\n",
    "RUN chmod 755 /run.sh\n",
    "ENTRYPOINT [\"/run.sh\"]\n",
    "CMD []\n"
   ]
  },
  {
   "cell_type": "markdown",
   "metadata": {},
   "source": [
    "This dockerfile is based on ubuntu version 18.10, and contains some basic packages for downloading files. It also copies the entrypoint shell script file, which is run.sh to the docker image. When users execute the docker run command, the run.sh will be executed.\n",
    "\n",
    "Now, let's see the code of run.sh:"
   ]
  },
  {
   "cell_type": "markdown",
   "metadata": {},
   "source": [
    "#!/bin/bash\n",
    "\n",
    "echo $env_test"
   ]
  },
  {
   "cell_type": "markdown",
   "metadata": {},
   "source": [
    "The code is very simple. The script will just print out the value of an environment varialbe, env_test to the screen. In addition, we need to define and transfer this env_test environment variable to docker container when the container is set up to run by the docker run command. \n",
    "\n",
    "Actually, we can use the following command:\n",
    "\n",
    "docker run [docker_image_name] -e env_test=\"hello world\"\n",
    "\n",
    "Here the environment varialbe env_test is given the value of \"hello world\". When the command is run, we can see the value of \"hello world\" is printed out on the screen by run.sh script. This means that the env_test environment variable has been successfully set and transferred to the docker container instance"
   ]
  },
  {
   "cell_type": "markdown",
   "metadata": {},
   "source": [
    "### AWS ECR\n",
    "1. aws ecr get-login --region us-east-2 --no-include-email\n",
    "2. copy and paste the output from this command\n",
    "then\n",
    "3. aws ecr create-repository --repository-name sra_rna_tool\n",
    "\n",
    "The output of the aws ecr create-repository is:\n",
    "{\n",
    "    \"repository\": {\n",
    "        \"repositoryArn\": \"arn:aws:ecr:us-east-1:098240359427:repository/sra_rna_tools\",\n",
    "        \"registryId\": \"098240359427\",\n",
    "        \"repositoryName\": \"sra_rna_tools\",\n",
    "        \"repositoryUri\": \"098240359427.dkr.ecr.us-east-1.amazonaws.com/sra_rna_tools\",\n",
    "        \"createdAt\": 1558838421.0\n",
    "    }\n",
    "}\n",
    "4. tag the docker image on the local machine to aws respositoryUri   \n",
    "   docker tag udocker:latest 098240359427.dkr.ecr.us-east-1.amazonaws.com/sra_rna_tools\n",
    "5. push the tagged docker image to AWS ECR   \n",
    "   docker push 098240359427.dkr.ecr.us-east-1.amazonaws.com/sra_rna_tools\n",
    "6. in AWS ECS console, define the image, and cmd in environment interface.   \n"
   ]
  },
  {
   "cell_type": "code",
   "execution_count": null,
   "metadata": {},
   "outputs": [],
   "source": []
  }
 ],
 "metadata": {
  "kernelspec": {
   "display_name": "Python 3",
   "language": "python",
   "name": "python3"
  },
  "language_info": {
   "codemirror_mode": {
    "name": "ipython",
    "version": 3
   },
   "file_extension": ".py",
   "mimetype": "text/x-python",
   "name": "python",
   "nbconvert_exporter": "python",
   "pygments_lexer": "ipython3",
   "version": "3.6.7"
  }
 },
 "nbformat": 4,
 "nbformat_minor": 2
}
